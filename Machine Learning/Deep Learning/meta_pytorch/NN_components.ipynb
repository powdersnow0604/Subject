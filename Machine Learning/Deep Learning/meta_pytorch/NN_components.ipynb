{
 "cells": [
  {
   "cell_type": "code",
   "execution_count": 7,
   "metadata": {},
   "outputs": [],
   "source": [
    "import torch\n",
    "import torch.nn as nn\n",
    "import torch.nn.functional as F\n",
    "import torch.optim as optim"
   ]
  },
  {
   "cell_type": "code",
   "execution_count": 2,
   "metadata": {},
   "outputs": [],
   "source": [
    "def printw(*list):\n",
    "    print(list, end=\"\\n\\n\")"
   ]
  },
  {
   "cell_type": "markdown",
   "metadata": {},
   "source": [
    "# Matrix Multiplication"
   ]
  },
  {
   "cell_type": "code",
   "execution_count": null,
   "metadata": {},
   "outputs": [],
   "source": [
    "t1 = torch.ones([6,2,2]).type(torch.DoubleTensor)\n",
    "temp = t1.reshape(-1,2,2)\n",
    "s = temp.shape[0]\n",
    "for i in range(s):\n",
    "    temp[i] *= i+1\n",
    "\n",
    "printw(t1.shape)\n",
    "\n",
    "temp = torch.tensor([1,2,2])\n",
    "t2 = torch.arange(0,temp.prod().item()).reshape(tuple(temp)).type(torch.DoubleTensor)\n",
    "printw(t2)"
   ]
  },
  {
   "cell_type": "code",
   "execution_count": null,
   "metadata": {},
   "outputs": [],
   "source": [
    "#print(torch.bmm(t1, t2))\n",
    "t = t1 @ t2\n",
    "# tmep = t.reshape(-1,2,2)\n",
    "# s = temp.shape[0]\n",
    "\n",
    "# for M in temp:\n",
    "#     printw(temp)\n",
    "\n",
    "print(t)\n",
    "print(t.shape)\n",
    "\n"
   ]
  },
  {
   "cell_type": "markdown",
   "metadata": {},
   "source": [
    "# Linear Layer"
   ]
  },
  {
   "cell_type": "code",
   "execution_count": 5,
   "metadata": {},
   "outputs": [],
   "source": [
    "x = torch.rand(6,4).type(torch.FloatTensor)"
   ]
  },
  {
   "cell_type": "code",
   "execution_count": 10,
   "metadata": {},
   "outputs": [],
   "source": [
    "class MyLinear(nn.Module):\n",
    "\tdef __init__(self, dim_in, dim_out):\n",
    "\t\tsuper().__init__()\n",
    "\t\tself.dim_in = dim_in\n",
    "\t\tself.im_out = dim_out\n",
    "\t\tself.W = nn.Parameter(torch.FloatTensor(dim_in, dim_out))\n",
    "\t\tself.b = nn.Parameter(torch.FloatTensor(dim_out))\n",
    "\t\n",
    "\tdef forward(self, x):\n",
    "\t\treturn x @ self.W + self.b"
   ]
  },
  {
   "cell_type": "code",
   "execution_count": 11,
   "metadata": {},
   "outputs": [
    {
     "name": "stdout",
     "output_type": "stream",
     "text": [
      "torch.Size([6, 4])\n"
     ]
    }
   ],
   "source": [
    "Linear = MyLinear(4, 4)\n",
    "\n",
    "y = Linear(x)\n",
    "print(y.shape)"
   ]
  },
  {
   "cell_type": "code",
   "execution_count": null,
   "metadata": {},
   "outputs": [],
   "source": [
    "for p in Linear.parameters():\n",
    "    printw(p)\n",
    "printw(type(Linear.parameters()))\n",
    "printw(list(Linear.parameters()))"
   ]
  },
  {
   "cell_type": "code",
   "execution_count": 16,
   "metadata": {},
   "outputs": [
    {
     "name": "stdout",
     "output_type": "stream",
     "text": [
      "torch.Size([6, 4])\n"
     ]
    }
   ],
   "source": [
    "Linear = nn.Linear(4,4)\n",
    "\n",
    "y = Linear(x)\n",
    "print(y.shape)"
   ]
  },
  {
   "cell_type": "code",
   "execution_count": null,
   "metadata": {},
   "outputs": [],
   "source": [
    "t = torch.randn(2,3)\n",
    "printw(F.sigmoid(t))\n",
    "\n",
    "sigmoid = nn.Sigmoid()\n",
    "printw(sigmoid(t))"
   ]
  },
  {
   "cell_type": "code",
   "execution_count": null,
   "metadata": {},
   "outputs": [],
   "source": [
    "t = torch.randn(2,3)\n",
    "printw(F.relu(t))\n",
    "\n",
    "relu = nn.ReLU()\n",
    "printw(relu(t))"
   ]
  },
  {
   "cell_type": "code",
   "execution_count": 22,
   "metadata": {},
   "outputs": [
    {
     "name": "stdout",
     "output_type": "stream",
     "text": [
      "(tensor([[0.1947, 0.7119, 0.0934],\n",
      "        [0.2144, 0.1441, 0.6415]]),)\n",
      "\n",
      "(tensor([[0.1947, 0.7119, 0.0934],\n",
      "        [0.2144, 0.1441, 0.6415]]),)\n",
      "\n"
     ]
    }
   ],
   "source": [
    "t = torch.randn(2,3)\n",
    "printw(F.softmax(t,1))\n",
    "\n",
    "softmax = nn.Softmax(1)\n",
    "printw(softmax(t))"
   ]
  },
  {
   "cell_type": "code",
   "execution_count": 4,
   "metadata": {},
   "outputs": [
    {
     "name": "stdout",
     "output_type": "stream",
     "text": [
      "tensor(1.8887, grad_fn=<NllLossBackward0>)\n"
     ]
    }
   ],
   "source": [
    "m = nn.LogSoftmax(dim=1)\n",
    "loss = nn.NLLLoss()\n",
    "# input is of size N x C = 3 x 5\n",
    "input = torch.randn(3, 5, requires_grad=True)\n",
    "# each element in target has to have 0 <= value < C\n",
    "target = torch.tensor([1, 0, 4])\n",
    "output = loss(m(input), target)\n",
    "print(output)"
   ]
  },
  {
   "cell_type": "code",
   "execution_count": 6,
   "metadata": {},
   "outputs": [
    {
     "name": "stdout",
     "output_type": "stream",
     "text": [
      "tensor(2.7955, grad_fn=<NllLossBackward0>)\n"
     ]
    }
   ],
   "source": [
    "loss = nn.CrossEntropyLoss()\n",
    "pred = torch.randn(3, 5, requires_grad=True)\n",
    "\n",
    "target = torch.tensor([0,4,0])\n",
    "\n",
    "print(loss(pred, target))"
   ]
  },
  {
   "cell_type": "markdown",
   "metadata": {},
   "source": [
    "# Optimizer"
   ]
  },
  {
   "cell_type": "code",
   "execution_count": null,
   "metadata": {},
   "outputs": [],
   "source": [
    "model = nn.Linear(10,4)\n",
    "opt = optim.SGD(model.parameters(), lr=0.01, momentum=0.9)\n",
    "opt.step()"
   ]
  },
  {
   "cell_type": "code",
   "execution_count": null,
   "metadata": {},
   "outputs": [],
   "source": [
    "model = nn.Linear(10,4)\n",
    "opt = optim.Adam(model.parameters(), lr=0.001, betas=(0.9,0.999))\n",
    "opt.step()"
   ]
  }
 ],
 "metadata": {
  "kernelspec": {
   "display_name": "pytorch",
   "language": "python",
   "name": "python3"
  },
  "language_info": {
   "codemirror_mode": {
    "name": "ipython",
    "version": 3
   },
   "file_extension": ".py",
   "mimetype": "text/x-python",
   "name": "python",
   "nbconvert_exporter": "python",
   "pygments_lexer": "ipython3",
   "version": "3.12.2"
  }
 },
 "nbformat": 4,
 "nbformat_minor": 2
}
