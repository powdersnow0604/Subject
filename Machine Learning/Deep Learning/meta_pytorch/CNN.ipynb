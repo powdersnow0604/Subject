{
 "cells": [
  {
   "cell_type": "code",
   "execution_count": 3,
   "metadata": {},
   "outputs": [],
   "source": [
    "import numpy as np\n",
    "\n",
    "import torch\n",
    "import torch.nn as nn\n",
    "import torch.optim as optim\n",
    "from torch.utils.data import DataLoader, Dataset\n",
    "import torchvision\n",
    "from torchvision import datasets, transforms\n",
    "\n",
    "import sklearn\n",
    "from sklearn.metrics import classification_report\n",
    "\n",
    "from tqdm import tqdm\n",
    "import os"
   ]
  },
  {
   "cell_type": "markdown",
   "metadata": {},
   "source": [
    "# Note\n",
    "\n",
    "FC Layer 로 image 처리는 안되나? => parameter 수가 너무 많아짐, 2 차원 특징을 학습하기 힘듬   \n",
    "    \n",
    "transforms: 전처리 적용   \n",
    "1. ToTensor: torch 텐서로 취급   \n",
    "2. Normalize: trainset 의 평균, 분산으로 픽셀들의 range 를 scaling   "
   ]
  },
  {
   "cell_type": "markdown",
   "metadata": {},
   "source": [
    "# Data Preparation"
   ]
  },
  {
   "cell_type": "code",
   "execution_count": 9,
   "metadata": {},
   "outputs": [],
   "source": [
    "path = os.getenv(\"RESOURCE_PATH\")\n",
    "\n",
    "train_loader = DataLoader(datasets.FashionMNIST(path, train=True, download=True, transform=transforms.Compose([\n",
    "    transforms.ToTensor(),\n",
    "    transforms.Normalize((0.1307,), (0.3081,))\n",
    "])),\n",
    "batch_size=64, shuffle=True)\n",
    "\n",
    "test_loader = DataLoader(datasets.FashionMNIST(path, train=False, download=True, transform=transforms.Compose([\n",
    "    transforms.ToTensor(),\n",
    "    transforms.Normalize((0.1307,), (0.3081,))\n",
    "])),\n",
    "batch_size=64, shuffle=True)"
   ]
  },
  {
   "cell_type": "code",
   "execution_count": 13,
   "metadata": {},
   "outputs": [],
   "source": [
    "class CNN(nn.Module):\n",
    "    def __init__(self):\n",
    "        super().__init__()\n",
    "        self.Layer = nn.Sequential(\n",
    "            nn.Conv2d(1,32,3),\n",
    "            nn.ReLU(),\n",
    "            nn.MaxPool2d(2),\n",
    "            nn.Conv2d(32,64,3),\n",
    "            nn.ReLU(),\n",
    "            nn.MaxPool2d(2),\n",
    "            nn.Flatten(),\n",
    "            nn.Linear(64*5*5, 128),\n",
    "            nn.ReLU(),\n",
    "            nn.Linear(128,10),\n",
    "        )\n",
    "    \n",
    "    def forward(self,x):\n",
    "        return self.Layer(x)\n",
    "    \n",
    "model = CNN()"
   ]
  },
  {
   "cell_type": "code",
   "execution_count": 14,
   "metadata": {},
   "outputs": [],
   "source": [
    "loss_fn = nn.CrossEntropyLoss()\n",
    "optimizer = optim.Adam(model.parameters(), lr=0.001)"
   ]
  },
  {
   "cell_type": "code",
   "execution_count": 15,
   "metadata": {},
   "outputs": [
    {
     "name": "stderr",
     "output_type": "stream",
     "text": [
      "100%|██████████| 5/5 [00:40<00:00,  8.06s/it]\n"
     ]
    }
   ],
   "source": [
    "device = torch.device('cuda' if torch.cuda.is_available() else 'cpu')\n",
    "model = model.to(device)\n",
    "\n",
    "for epoch in tqdm(range(5)):\n",
    "    for i, (images, labels) in enumerate(train_loader):\n",
    "        images = images.view(-1,1,28,28).to(device)\n",
    "        labels = labels.to(device)\n",
    "        \n",
    "        optimizer.zero_grad()\n",
    "\n",
    "        outputs = model(images)\n",
    "        loss = loss_fn(outputs, labels)\n",
    "\n",
    "        loss.backward()\n",
    "        optimizer.step()"
   ]
  },
  {
   "cell_type": "code",
   "execution_count": 19,
   "metadata": {},
   "outputs": [
    {
     "name": "stdout",
     "output_type": "stream",
     "text": [
      "Test Accuracy: 90.11743630573248%\n"
     ]
    }
   ],
   "source": [
    "total, correct = 0, 0\n",
    "y_pred, y_true = torch.zeros([64]).to(device), torch.zeros([64]).to(device)\n",
    "\n",
    "with torch.no_grad():\n",
    "    for images, labels in test_loader:\n",
    "        images = images.view(-1,1,28,28).to(device)\n",
    "        labels = labels.to(device)\n",
    "        outputs = model(images)\n",
    "        _, predicted = torch.max(outputs.data, 1)\n",
    "\n",
    "        if(predicted.shape[0]!=64):\n",
    "            predicted = torch.cat([predicted, torch.zeros(64-predicted.shape[0]).to(device)])\n",
    "            labels = torch.cat([labels, torch.zeros(64-labels.shape[0]).to(device)])\n",
    "\n",
    "        y_pred = torch.cat([y_pred, predicted])\n",
    "        y_true = torch.cat([y_true, labels])\n",
    "\n",
    "        total += labels.size(0)\n",
    "        correct += (predicted == labels).sum().item()\n",
    "\n",
    "print(\"Test Accuracy: {}%\".format((correct / total) * 100))"
   ]
  },
  {
   "cell_type": "code",
   "execution_count": 20,
   "metadata": {},
   "outputs": [
    {
     "name": "stdout",
     "output_type": "stream",
     "text": [
      "              precision    recall  f1-score   support\n",
      "\n",
      "         0.0       0.90      0.83      0.86      1112\n",
      "         1.0       1.00      0.97      0.98      1000\n",
      "         2.0       0.91      0.78      0.84      1000\n",
      "         3.0       0.92      0.90      0.91      1000\n",
      "         4.0       0.82      0.90      0.85      1000\n",
      "         5.0       0.98      0.98      0.98      1000\n",
      "         6.0       0.66      0.78      0.72      1000\n",
      "         7.0       0.94      0.98      0.96      1000\n",
      "         8.0       0.97      0.98      0.98      1000\n",
      "         9.0       0.99      0.94      0.96      1000\n",
      "\n",
      "    accuracy                           0.90     10112\n",
      "   macro avg       0.91      0.90      0.90     10112\n",
      "weighted avg       0.91      0.90      0.90     10112\n",
      "\n"
     ]
    }
   ],
   "source": [
    "print(classification_report(y_true.detach().cpu().numpy(), y_pred.detach().cpu().numpy()))"
   ]
  },
  {
   "cell_type": "code",
   "execution_count": null,
   "metadata": {},
   "outputs": [],
   "source": []
  }
 ],
 "metadata": {
  "kernelspec": {
   "display_name": "pytorch",
   "language": "python",
   "name": "python3"
  },
  "language_info": {
   "codemirror_mode": {
    "name": "ipython",
    "version": 3
   },
   "file_extension": ".py",
   "mimetype": "text/x-python",
   "name": "python",
   "nbconvert_exporter": "python",
   "pygments_lexer": "ipython3",
   "version": "3.12.2"
  }
 },
 "nbformat": 4,
 "nbformat_minor": 2
}
