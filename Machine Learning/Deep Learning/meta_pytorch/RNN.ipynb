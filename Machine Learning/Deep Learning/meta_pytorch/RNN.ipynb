{
 "cells": [
  {
   "cell_type": "code",
   "execution_count": 14,
   "metadata": {},
   "outputs": [],
   "source": [
    "import numpy as np\n",
    "import pandas as pd\n",
    "\n",
    "import torch\n",
    "import torch.nn as nn\n",
    "from torch.utils.data import DataLoader, TensorDataset\n",
    "import torch.optim as optim \n",
    "\n",
    "import sklearn\n",
    "from sklearn.preprocessing import StandardScaler\n",
    "from sklearn.metrics import mean_squared_error\n",
    "\n",
    "from tqdm import tqdm\n",
    "import matplotlib.pyplot as plt"
   ]
  },
  {
   "cell_type": "markdown",
   "metadata": {},
   "source": [
    "# Note   \n",
    "통계적 분석 방법론   \n",
    "1. 원본 시계열에서 Trend, Seasonality 를 제거하고 남은 Residual 을 모델링\n",
    "2. Residual 은 stationarity 를 기반으로 모델링(ARIMA 계열)\n",
    "3. 예측은 Residual 을 토대로 만든 모델의 예측값에 Trend 와 Seasonality 를 더해 계산"
   ]
  },
  {
   "cell_type": "code",
   "execution_count": null,
   "metadata": {},
   "outputs": [],
   "source": [
    "from bs4 import BeautifulSoup\n",
    "import requests\n",
    "\n",
    "code = '005930'\n",
    "url = 'https://finance.naver.com/item/sise_day.naver?code={}'.format(code)\n",
    "header = {'User-agent':'Mozilla/5.0'}\n",
    "req = requests.get(url, headers=header)\n",
    "html = BeautifulSoup(req.text, 'lxml')\n",
    "\n",
    "pgrr = html.find('td', class_='pgRR')\n",
    "s = pgrr.a['href'].split('=')\n",
    "lat_page = s[-1]\n",
    "\n",
    "df = None\n",
    "\n",
    "for page in tqdm(range(1,100)):\n",
    "    req = requests.get('{}&page={}'.format(url,page), headers=header)\n",
    "    df = pd.concat([df, pd.read_html(req.text, encoding='euc-kr')[0]], ignore_index=True)\n",
    "\n",
    "df.head()"
   ]
  },
  {
   "cell_type": "code",
   "execution_count": 3,
   "metadata": {},
   "outputs": [
    {
     "name": "stdout",
     "output_type": "stream",
     "text": [
      "(990, 6)\n"
     ]
    }
   ],
   "source": [
    "df.dropna(inplace=True)\n",
    "\n",
    "df.columns = ['Date', 'Close', 'Gap', 'Open', 'High', 'Low', 'Amount']\n",
    "\n",
    "df.drop(['Gap'], axis=1, inplace=True)\n",
    "\n",
    "df.sort_values(['Date'], inplace=True)\n",
    "df.reset_index(drop=True, inplace=True)\n",
    "\n",
    "print(df.shape)"
   ]
  },
  {
   "cell_type": "code",
   "execution_count": 7,
   "metadata": {},
   "outputs": [
    {
     "name": "stdout",
     "output_type": "stream",
     "text": [
      "           Date    Close     Open     High      Low      Amount\n",
      "980  2024.04.17  78900.0  80700.0  80800.0  78900.0  22611631.0\n",
      "981  2024.04.18  79600.0  78800.0  80100.0  78300.0  21370190.0\n",
      "982  2024.04.19  77600.0  78300.0  78700.0  76300.0  31317563.0\n",
      "983  2024.04.22  76100.0  77400.0  77500.0  75100.0  30469477.0\n",
      "984  2024.04.23  75500.0  76400.0  76800.0  75500.0  18717699.0\n",
      "           Date    Close     Open     High      Low      Amount\n",
      "985  2024.04.24  78600.0  77500.0  78800.0  77200.0  22166150.0\n",
      "986  2024.04.25  76300.0  77300.0  77500.0  76300.0  15549134.0\n",
      "987  2024.04.26  76700.0  77800.0  77900.0  76500.0  12755629.0\n",
      "988  2024.04.29  76700.0  77400.0  77600.0  76200.0  14664474.0\n",
      "989  2024.04.30  77500.0  77000.0  78500.0  76600.0  18819539.0\n"
     ]
    },
    {
     "name": "stderr",
     "output_type": "stream",
     "text": [
      "C:\\Users\\User\\AppData\\Local\\Temp\\ipykernel_8108\\1979170977.py:6: SettingWithCopyWarning: \n",
      "A value is trying to be set on a copy of a slice from a DataFrame\n",
      "\n",
      "See the caveats in the documentation: https://pandas.pydata.org/pandas-docs/stable/user_guide/indexing.html#returning-a-view-versus-a-copy\n",
      "  train_df.drop(['Date'],axis=1,inplace=True)\n"
     ]
    }
   ],
   "source": [
    "train_df = df.loc[df.Date < '2024.04.24']\n",
    "test_df = df.loc[df.Date >= '2024.04.24']\n",
    "print(train_df.tail())\n",
    "print(test_df)\n",
    "\n",
    "train_df.drop(['Date'],axis=1,inplace=True)\n",
    "\n",
    "scaler = StandardScaler()\n",
    "scaler.fit(train_df)\n",
    "s_train_df = scaler.transform(train_df)\n",
    "s_test_df = scaler.transform(test_df.drop(['Date'], axis=1))"
   ]
  },
  {
   "cell_type": "code",
   "execution_count": 8,
   "metadata": {},
   "outputs": [
    {
     "name": "stdout",
     "output_type": "stream",
     "text": [
      "torch.Size([30, 5])\n",
      "torch.Size([5])\n",
      "30\n"
     ]
    }
   ],
   "source": [
    "input_window = 30\n",
    "output_window = 5\n",
    "\n",
    "data = torch.tensor(s_train_df, dtype=torch.float32)\n",
    "target = torch.tensor(s_train_df.T[0], dtype=torch.float32)\n",
    "\n",
    "X, Y = [], []\n",
    "\n",
    "for i in range(len(data) - input_window - output_window + 1):\n",
    "    X.append(data[i:i+input_window])\n",
    "    Y.append(target[i+input_window:i+input_window+output_window])\n",
    "\n",
    "dataset = TensorDataset(torch.stack(X), torch.stack(Y))\n",
    "print(dataset[0][0].shape)\n",
    "print(dataset[0][1].shape)\n",
    "\n",
    "dataloader = DataLoader(dataset, batch_size=32, shuffle=True)\n",
    "\n",
    "print(len(dataloader))"
   ]
  },
  {
   "cell_type": "code",
   "execution_count": 9,
   "metadata": {},
   "outputs": [],
   "source": [
    "class MyRNN(nn.Module):\n",
    "    def __init__(self, input_size, hidden_size, output_size):\n",
    "        super().__init__()\n",
    "\n",
    "        self.input_size = input_size\n",
    "        self.hidden_size = hidden_size\n",
    "        self.output_size = output_size\n",
    "\n",
    "        self.lstm = nn.LSTM(input_size, hidden_size, batch_first=True)\n",
    "        self.Layer = nn.Sequential(\n",
    "            nn.Linear(hidden_size, hidden_size // 2),\n",
    "            nn.ReLU(),\n",
    "            nn.Linear(hidden_size // 2, output_size)\n",
    "        )\n",
    "\n",
    "    def forward(self, x):\n",
    "        output, (h_out, c_out) = self.lstm(x)\n",
    "        h_out = h_out.view(-1, self.hidden_size)\n",
    "        return self.Layer(h_out)\n",
    "    \n",
    "model = MyRNN(5,30,5)"
   ]
  },
  {
   "cell_type": "code",
   "execution_count": 11,
   "metadata": {},
   "outputs": [],
   "source": [
    "device = torch.device('cuda' if torch.cuda.is_available() else 'cpu')\n",
    "model.to(device)\n",
    "\n",
    "optimizer = optim.Adam(model.parameters(), lr=0.001)\n",
    "loss_fn = nn.MSELoss()"
   ]
  },
  {
   "cell_type": "code",
   "execution_count": 13,
   "metadata": {},
   "outputs": [
    {
     "name": "stderr",
     "output_type": "stream",
     "text": [
      "100%|██████████| 100/100 [00:04<00:00, 21.89it/s]\n"
     ]
    }
   ],
   "source": [
    "num_epoch = 100\n",
    "losses = []\n",
    "\n",
    "for epoch in tqdm(range(num_epoch)):\n",
    "    for i, (inputs, labels) in enumerate(dataloader):\n",
    "        inputs = inputs.to(device)\n",
    "        labels = labels.to(device)\n",
    "\n",
    "        outputs = model(inputs)\n",
    "        loss = loss_fn(outputs, labels)\n",
    "\n",
    "        optimizer.zero_grad()\n",
    "        loss.backward()\n",
    "        optimizer.step()\n",
    "\n",
    "        losses.append(loss.detach().cpu().item())"
   ]
  },
  {
   "cell_type": "code",
   "execution_count": 15,
   "metadata": {},
   "outputs": [
    {
     "data": {
      "image/png": "[encoded data removed]",
      "text/plain": [
       "<Figure size 640x480 with 1 Axes>"
      ]
     },
     "metadata": {},
     "output_type": "display_data"
    }
   ],
   "source": [
    "plt.plot(losses)\n",
    "plt.xlabel('Iteration')\n",
    "plt.ylabel('Loss')\n",
    "plt.title('Loss Plot')\n",
    "plt.show()"
   ]
  },
  {
   "cell_type": "code",
   "execution_count": 16,
   "metadata": {},
   "outputs": [
    {
     "name": "stdout",
     "output_type": "stream",
     "text": [
      "real value: [1.06030296 0.81504014 0.85769454 0.85769454 0.94300335]\n",
      "predicted value:  [0.8773139  0.9204346  0.89446205 0.9440888  1.0295882 ]\n",
      "real closed for last 5 days:  [78600. 76300. 76700. 76700. 77500.]\n",
      "predicted closed for last 5 days:  [76883.984 77288.36  77044.8   77510.18  78311.97 ]\n",
      "error:  1035.00078661018\n"
     ]
    }
   ],
   "source": [
    "y_real = s_test_df.T[0]\n",
    "print('real value:', y_real)\n",
    "\n",
    "input = torch.tensor(s_train_df[-30:], dtype=torch.float32)\n",
    "y_pred = model(input.to(device)).detach().cpu().squeeze().numpy()\n",
    "print('predicted value: ', y_pred)\n",
    "\n",
    "print('real closed for last 5 days: ', scaler.inverse_transform(s_test_df).T[0])\n",
    "transformed_y_pred = y_pred * np.sqrt(scaler.var_[0]) + scaler.mean_[0]\n",
    "print('predicted closed for last 5 days: ', transformed_y_pred)\n",
    "\n",
    "print(\"error: \", np.sqrt(mean_squared_error(transformed_y_pred, scaler.inverse_transform(s_test_df).T[0])))"
   ]
  },
  {
   "cell_type": "code",
   "execution_count": null,
   "metadata": {},
   "outputs": [],
   "source": []
  }
 ],
 "metadata": {
  "kernelspec": {
   "display_name": "pytorch",
   "language": "python",
   "name": "python3"
  },
  "language_info": {
   "codemirror_mode": {
    "name": "ipython",
    "version": 3
   },
   "file_extension": ".py",
   "mimetype": "text/x-python",
   "name": "python",
   "nbconvert_exporter": "python",
   "pygments_lexer": "ipython3",
   "version": "3.12.2"
  }
 },
 "nbformat": 4,
 "nbformat_minor": 2
}
